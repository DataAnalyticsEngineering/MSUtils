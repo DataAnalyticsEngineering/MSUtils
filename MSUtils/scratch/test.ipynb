{
 "cells": [
  {
   "cell_type": "code",
   "execution_count": 1,
   "id": "4e2495dc",
   "metadata": {},
   "outputs": [],
   "source": [
    "import h5py\n",
    "import numpy as np\n"
   ]
  },
  {
   "cell_type": "code",
   "execution_count": 2,
   "id": "ab53f23b",
   "metadata": {},
   "outputs": [
    {
     "name": "stdout",
     "output_type": "stream",
     "text": [
      "msutils normals shape: (128, 128, 128, 3)\n",
      "FANS normals shape: (128, 128, 128, 3)\n"
     ]
    }
   ],
   "source": [
    "with h5py.File('/home/keshav/MSUtils/data/voroImg_eroded.h5', 'r') as file_msutils:\n",
    "    # Read the normals from the MSUtils file\n",
    "    normal_msutils = file_msutils['/dset_0/normals'][...]\n",
    "    print('msutils normals shape:', normal_msutils.shape)\n",
    "\n",
    "# Read the normals from the FANS file\n",
    "with h5py.File('/home/keshav/FANS/test/scratch/test_results.h5', 'r') as file_fans:\n",
    "    normal_fans = file_fans['/dset_0/eroded_image_results/load0/time_step0/GBnormals'][...]\n",
    "    print('FANS normals shape:', normal_fans.shape)\n"
   ]
  },
  {
   "cell_type": "code",
   "execution_count": 3,
   "id": "7d9420ba",
   "metadata": {},
   "outputs": [
    {
     "data": {
      "text/plain": [
       "np.float64(0.0)"
      ]
     },
     "execution_count": 3,
     "metadata": {},
     "output_type": "execute_result"
    }
   ],
   "source": [
    "np.linalg.norm(normal_fans - normal_msutils)"
   ]
  },
  {
   "cell_type": "code",
   "execution_count": 4,
   "id": "8a89bf70",
   "metadata": {},
   "outputs": [
    {
     "name": "stdout",
     "output_type": "stream",
     "text": [
      "[[ 2.42641606e+00 -9.45604269e-36  6.61922988e-35]\n",
      " [-9.45604269e-36  2.42641606e+00 -5.91948602e-18]\n",
      " [ 6.61922988e-35 -5.91948602e-18  2.42641606e+00]]\n",
      "[[ 2.42641606e+00 -9.45604269e-36  6.61922988e-35]\n",
      " [-9.45604269e-36  2.42641606e+00 -5.91948602e-18]\n",
      " [ 6.61922988e-35 -5.91948602e-18  2.42641606e+00]]\n"
     ]
    }
   ],
   "source": [
    "np.linalg.norm(normal_msutils - normal_fans)\n",
    "\n",
    "s_msutils = normal_msutils.reshape((-1,3)).T @ normal_msutils.reshape((-1,3))\n",
    "s_fans = normal_fans.reshape((-1,3)).T @ normal_fans.reshape((-1,3))\n",
    "\n",
    "print(s_msutils/len(np.where(np.linalg.norm(normal_msutils, axis=1) > 0)[0]))\n",
    "print(s_fans/len(np.where(np.linalg.norm(normal_fans, axis=1) > 0)[0]))"
   ]
  },
  {
   "cell_type": "code",
   "execution_count": 12,
   "id": "d5f73f55",
   "metadata": {},
   "outputs": [
    {
     "name": "stdout",
     "output_type": "stream",
     "text": [
      "Mean of MSUtils normals: [-0.00774723  0.02164226  0.01886325]\n",
      "Mean of FANS normals: [-0.00774723  0.02164226  0.01886325]\n"
     ]
    }
   ],
   "source": [
    "# Calculate the sum of normals for both datasets\n",
    "# Calculate the mean of normals for both datasets\n",
    "msutils_mean = np.mean(normal_msutils, axis=(0, 1, 2))\n",
    "fans_mean = np.mean(normal_fans, axis=(0, 1, 2))\n",
    "\n",
    "# Print the results\n",
    "print(\"Mean of MSUtils normals:\", msutils_mean)\n",
    "print(\"Mean of FANS normals:\", fans_mean)\n",
    "\n"
   ]
  },
  {
   "cell_type": "code",
   "execution_count": 5,
   "id": "9ad01a24",
   "metadata": {},
   "outputs": [
    {
     "name": "stdout",
     "output_type": "stream",
     "text": [
      "[[1.34027153 0.         0.        ]\n",
      " [0.         1.34027153 0.        ]\n",
      " [0.         0.         1.34027153]]\n",
      "[[26.388253  0.        0.      ]\n",
      " [ 0.       26.388253  0.      ]\n",
      " [ 0.        0.       26.388253]]\n"
     ]
    }
   ],
   "source": [
    "c_GB = 0.256447\n",
    "D_bulk = 1.0\n",
    "D_para = 1e2\n",
    "D_perp = 1e2\n",
    "S = s_fans\n",
    "\n",
    "D_reuss = np.linalg.inv( (1 - c_GB) / D_bulk * np.eye(3)\n",
    "                            + c_GB * ((D_para -D_perp) / (D_para * D_perp) * S + 1/D_para * np.eye(3)))\n",
    "\n",
    "D_voigt = ( (1 - c_GB) * D_bulk * np.eye(3)\n",
    "            + c_GB * ( ( D_perp - D_para) * S + D_para * np.eye(3)))\n",
    "\n",
    "print(D_reuss)\n",
    "print(D_voigt)"
   ]
  },
  {
   "cell_type": "code",
   "execution_count": null,
   "id": "53fcbafb",
   "metadata": {},
   "outputs": [],
   "source": []
  }
 ],
 "metadata": {
  "kernelspec": {
   "display_name": "default",
   "language": "python",
   "name": "python3"
  },
  "language_info": {
   "codemirror_mode": {
    "name": "ipython",
    "version": 3
   },
   "file_extension": ".py",
   "mimetype": "text/x-python",
   "name": "python",
   "nbconvert_exporter": "python",
   "pygments_lexer": "ipython3",
   "version": "3.12.7"
  }
 },
 "nbformat": 4,
 "nbformat_minor": 5
}
